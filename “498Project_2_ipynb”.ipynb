{
  "nbformat": 4,
  "nbformat_minor": 0,
  "metadata": {
    "colab": {
      "name": "“498Project 2.ipynb”",
      "provenance": [],
      "collapsed_sections": [],
      "include_colab_link": true
    },
    "kernelspec": {
      "name": "python3",
      "display_name": "Python 3"
    },
    "language_info": {
      "name": "python"
    }
  },
  "cells": [
    {
      "cell_type": "markdown",
      "metadata": {
        "id": "view-in-github",
        "colab_type": "text"
      },
      "source": [
        "<a href=\"https://colab.research.google.com/github/yyx462/ML/blob/main/%E2%80%9C498Project_2_ipynb%E2%80%9D.ipynb\" target=\"_parent\"><img src=\"https://colab.research.google.com/assets/colab-badge.svg\" alt=\"Open In Colab\"/></a>"
      ]
    },
    {
      "cell_type": "code",
      "source": [
        "%matplotlib inline"
      ],
      "metadata": {
        "id": "9X33qeKGixQy"
      },
      "execution_count": null,
      "outputs": []
    },
    {
      "cell_type": "code",
      "execution_count": null,
      "metadata": {
        "id": "f74rAdi6Psew"
      },
      "outputs": [],
      "source": [
        "import numpy as np                   # advanced math library\n",
        "import matplotlib.pyplot as plt      # MATLAB like plotting routines\n",
        "import random                        # for generating random numbers\n",
        "\n",
        "import tensorflow as tf\n",
        "from tensorflow import keras\n",
        "import pandas as pd\n",
        "\n",
        "from keras.models import Sequential  # Model type to be used\n",
        "\n",
        "from keras.layers.core import Dense, Dropout, Activation # Types of layers to be used in our model\n",
        "from keras.layers import Conv2D\n",
        "from keras.layers import BatchNormalization\n",
        "from keras import regularizers\n",
        "from keras.utils import np_utils                         # NumPy related tools\n",
        "from keras.callbacks import EarlyStopping\n",
        "from keras.layers.core.flatten import Flatten\n",
        "from keras.layers.pooling import MaxPool2D\n",
        "from sklearn.model_selection import train_test_split\n",
        "from numpy import save\n"
      ]
    },
    {
      "cell_type": "markdown",
      "source": [
        "# Load Data"
      ],
      "metadata": {
        "id": "_CDSjh5DQBR7"
      }
    },
    {
      "cell_type": "code",
      "source": [
        "# (X_train, y_train), (X_test, y_test) = tf.keras.datasets.fashion_mnist.load_data()"
      ],
      "metadata": {
        "id": "NH9KVnKayG3E"
      },
      "execution_count": null,
      "outputs": []
    },
    {
      "cell_type": "code",
      "source": [
        "X = np.load('training_images.npy')\n",
        "y = np.load('training_labels.npy')\n",
        "\n",
        "X_train, X_test, y_train, y_test = train_test_split(X, y, test_size=0.25, random_state=42)\n",
        "print(\"X_train shape\", X_train.shape)\n",
        "print(\"y_train shape\", y_train.shape)\n",
        "print(\"X_test shape\", X_test.shape)\n",
        "print(\"y_test shape\", y_test.shape)"
      ],
      "metadata": {
        "colab": {
          "base_uri": "https://localhost:8080/"
        },
        "id": "hPb6_oSQiR8w",
        "outputId": "ec308456-c51f-442a-b730-5f243054609b"
      },
      "execution_count": null,
      "outputs": [
        {
          "output_type": "stream",
          "name": "stdout",
          "text": [
            "X_train shape (45000, 28, 28)\n",
            "y_train shape (45000,)\n",
            "X_test shape (15000, 28, 28)\n",
            "y_test shape (15000,)\n"
          ]
        }
      ]
    },
    {
      "cell_type": "code",
      "source": [
        "# print(\"X_train[0] shape\", X_train[0].shape)\n",
        "# print(\"y_train shape\", y_train.shape)\n",
        "# print(\"X_test shape\", X_test.shape)\n",
        "# print(\"y_test shape\", y_test.shape)"
      ],
      "metadata": {
        "id": "iiUyAhpny2J2"
      },
      "execution_count": null,
      "outputs": []
    },
    {
      "cell_type": "markdown",
      "source": [
        "# Process Input Vector"
      ],
      "metadata": {
        "id": "NboVBGfwzeSo"
      }
    },
    {
      "cell_type": "code",
      "source": [
        "X_train = X_train.astype('float32')\n",
        "X_test = X_test.astype('float32')\n",
        "\n",
        "X_train /= 255\n",
        "X_test /= 255"
      ],
      "metadata": {
        "id": "TDhcgdPMzRJG"
      },
      "execution_count": null,
      "outputs": []
    },
    {
      "cell_type": "code",
      "source": [
        "nb_classes = 10\n",
        "\n",
        "Y_train = np_utils.to_categorical(y_train, nb_classes)\n",
        "Y_test = np_utils.to_categorical(y_test, nb_classes)"
      ],
      "metadata": {
        "id": "k-UjaI12zlGo"
      },
      "execution_count": null,
      "outputs": []
    },
    {
      "cell_type": "markdown",
      "source": [
        "# Build the model"
      ],
      "metadata": {
        "id": "Eyb9LGZzzQE3"
      }
    },
    {
      "cell_type": "code",
      "source": [
        "callBack = EarlyStopping(monitor='val_accuracy', patience=5, restore_best_weights=True)"
      ],
      "metadata": {
        "id": "1_riw-0KzYl3"
      },
      "execution_count": null,
      "outputs": []
    },
    {
      "cell_type": "code",
      "source": [
        "\n",
        "model = Sequential()\n",
        "#convolution layers and pooling layers\n",
        "model.add(Conv2D(filters=32, padding='same', kernel_size=(3,3), activation='relu', input_shape=(28,28,1), kernel_regularizer=regularizers.L2(1e-4)))\n",
        "model.add(BatchNormalization()),\n",
        "model.add(MaxPool2D((3,3)))\n",
        "model.add(BatchNormalization()),\n",
        "model.add(Conv2D(filters=64, padding='same', kernel_size=(4,4), activation='relu', kernel_regularizer=regularizers.L2(1e-4)))\n",
        "model.add(BatchNormalization()),\n",
        "model.add(MaxPool2D((3,3)))\n",
        "model.add(BatchNormalization()),\n",
        "\n",
        "model.add(Flatten())\n",
        "model.add(Dense(1024, activation='relu', kernel_regularizer=regularizers.L2(1e-4)))\n",
        "model.add(Dropout(0.2))\n",
        "model.add(Dense(nb_classes, activation='softmax'))"
      ],
      "metadata": {
        "id": "XgBhLu-izq5A"
      },
      "execution_count": null,
      "outputs": []
    },
    {
      "cell_type": "code",
      "source": [
        "model.compile(loss='categorical_crossentropy', optimizer='adam', metrics=['accuracy'])"
      ],
      "metadata": {
        "id": "xMHrBDe8zy_F"
      },
      "execution_count": null,
      "outputs": []
    },
    {
      "cell_type": "code",
      "source": [
        "model.fit(X_train, Y_train, batch_size=32, epochs=100, validation_split=0.2, verbose=1, callbacks=callBack)"
      ],
      "metadata": {
        "id": "1psIS_hsz0iU"
      },
      "execution_count": null,
      "outputs": []
    },
    {
      "cell_type": "code",
      "source": [
        "score = model.evaluate(X_test, Y_test)\n",
        "print('Test loss:', score[0])\n",
        "print('Test accuracy:', score[1])"
      ],
      "metadata": {
        "colab": {
          "base_uri": "https://localhost:8080/"
        },
        "id": "ya77SX5S0fdd",
        "outputId": "c4ad03be-85e3-497d-8324-49e63eee86fc"
      },
      "execution_count": null,
      "outputs": [
        {
          "output_type": "stream",
          "name": "stdout",
          "text": [
            "469/469 [==============================] - 6s 12ms/step - loss: 0.3769 - accuracy: 0.9128\n",
            "Test loss: 0.376906156539917\n",
            "Test accuracy: 0.9128000140190125\n"
          ]
        }
      ]
    },
    {
      "cell_type": "code",
      "source": [
        "X_out = np.load('test_images.npy')\n",
        "#X_out = X_out.reshape(10000, 784)   # reshape 10,000 28 x 28 matrices into 10,000 784-length vectors.\n",
        "X_out = X_out.astype('float32')   # change integers to 32-bit floating point numbers\n",
        "X_out /= 255\n",
        "predicted_classes_probabilities = model.predict(X_out)\n",
        "predicted_classes = np.argmax(predicted_classes_probabilities,axis=1)\n",
        "df={'LABEL':predicted_classes}\n",
        "df=pd.DataFrame(data=df)\n",
        "df['LABEL'].to_csv('output.csv',index_label='ID')"
      ],
      "metadata": {
        "id": "ufI5H3yZ3l1F"
      },
      "execution_count": null,
      "outputs": []
    }
  ]
}